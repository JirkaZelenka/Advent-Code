{
 "cells": [
  {
   "cell_type": "markdown",
   "metadata": {},
   "source": [
    "## Advent Code 2020\n",
    "#### https://adventofcode.com/2020/day/1\n",
    "#### logged via GitHub\n",
    "### start 1.12.2020"
   ]
  },
  {
   "cell_type": "markdown",
   "metadata": {},
   "source": [
    "### 1.12."
   ]
  },
  {
   "cell_type": "code",
   "execution_count": 1,
   "metadata": {},
   "outputs": [
    {
     "output_type": "stream",
     "name": "stdout",
     "text": [
      "889 1131 1005459\n1242 112 666 92643264\n"
     ]
    }
   ],
   "source": [
    "inputs = [1945,2004,1520,1753,1463,1976,1994,1830,1942,1784,1858,1841,1721,1480,1821,1584,978,1530,1278,1827,889,1922,1996,1992,1819,1847,2010,2002,210,1924,1482,1451,1867,1364,1578,1623,1117,1594,1476,1879,1797,1952,2005,1734,1898,1880,1330,1854,1813,1926,1686,1286,1808,1876,1366,1995,1632,1699,2001,1365,1343,1979,1868,1815,820,1966,1888,1916,1852,1932,1368,1606,1825,1731,1980,1990,1818,1702,1419,1897,1970,1276,1914,1889,1953,1588,1958,1310,1391,1326,1131,1959,1844,1307,1998,1961,1708,1977,1886,1946,1516,1999,1859,1931,1853,1265,1869,1642,1740,1467,1944,1956,1263,1940,1912,1832,1872,1678,1319,1839,1689,1765,1894,1242,1983,1410,1985,1387,1022,1358,860,112,1964,1836,1838,1285,1943,1718,1351,760,1925,1842,1921,1967,1822,1978,1837,1378,1618,1266,2003,1972,666,1321,1938,1616,1892,831,1865,1314,1571,1806,1225,1882,1454,1257,1381,1284,1907,1950,1887,1492,1934,1709,1315,1574,1794,1576,1883,1864,1981,1317,1397,1325,1620,1895,1485,1828,1803,1715,1374,1251,1460,1863,1581,1499,1933,1982,1809,1812]\n",
    "\n",
    "def sum_2020(inputs):\n",
    "    for i in range(len(inputs)):\n",
    "        for j in range(i,len(inputs)):\n",
    "            if inputs[i]+inputs[j] == 2020:\n",
    "                print(inputs[i], inputs[j], inputs[i]*inputs[j])\n",
    "sum_2020(inputs)\n",
    "\n",
    "\n",
    "def sum_2020_two(inputs):\n",
    "    for i in range(len(inputs)):\n",
    "        for j in range(i,len(inputs)):\n",
    "            for k in range(j, len(inputs)):\n",
    "                if inputs[i]+inputs[j]+inputs[k] == 2020:\n",
    "                    print(inputs[i], inputs[j],inputs[k], inputs[i]*inputs[j]*inputs[k])\n",
    "sum_2020_two(inputs)\n"
   ]
  },
  {
   "source": [
    "## 2.12. Valid passwords"
   ],
   "cell_type": "markdown",
   "metadata": {}
  },
  {
   "cell_type": "code",
   "execution_count": 7,
   "metadata": {},
   "outputs": [
    {
     "output_type": "execute_result",
     "data": {
      "text/plain": [
       "   Range Letter             Password Min Max  Result\n",
       "0   9-10     m:          mmmmnxmmmwm   9  10   False\n",
       "1    6-8     w:             wpwwhxnv   6   8   False\n",
       "2    4-6     n:            trwpnnnvq   4   6   False\n",
       "3  12-15     p:  zfpmpphpgghpppppppp  12  15   False\n",
       "4   5-10     z:       bqlbzfzzzbzwsz   5  10   False"
      ],
      "text/html": "<div>\n<style scoped>\n    .dataframe tbody tr th:only-of-type {\n        vertical-align: middle;\n    }\n\n    .dataframe tbody tr th {\n        vertical-align: top;\n    }\n\n    .dataframe thead th {\n        text-align: right;\n    }\n</style>\n<table border=\"1\" class=\"dataframe\">\n  <thead>\n    <tr style=\"text-align: right;\">\n      <th></th>\n      <th>Range</th>\n      <th>Letter</th>\n      <th>Password</th>\n      <th>Min</th>\n      <th>Max</th>\n      <th>Result</th>\n    </tr>\n  </thead>\n  <tbody>\n    <tr>\n      <th>0</th>\n      <td>9-10</td>\n      <td>m:</td>\n      <td>mmmmnxmmmwm</td>\n      <td>9</td>\n      <td>10</td>\n      <td>False</td>\n    </tr>\n    <tr>\n      <th>1</th>\n      <td>6-8</td>\n      <td>w:</td>\n      <td>wpwwhxnv</td>\n      <td>6</td>\n      <td>8</td>\n      <td>False</td>\n    </tr>\n    <tr>\n      <th>2</th>\n      <td>4-6</td>\n      <td>n:</td>\n      <td>trwpnnnvq</td>\n      <td>4</td>\n      <td>6</td>\n      <td>False</td>\n    </tr>\n    <tr>\n      <th>3</th>\n      <td>12-15</td>\n      <td>p:</td>\n      <td>zfpmpphpgghpppppppp</td>\n      <td>12</td>\n      <td>15</td>\n      <td>False</td>\n    </tr>\n    <tr>\n      <th>4</th>\n      <td>5-10</td>\n      <td>z:</td>\n      <td>bqlbzfzzzbzwsz</td>\n      <td>5</td>\n      <td>10</td>\n      <td>False</td>\n    </tr>\n  </tbody>\n</table>\n</div>"
     },
     "metadata": {},
     "execution_count": 7
    }
   ],
   "source": [
    "import pandas as pd\n",
    "\n",
    "inputs = pd.read_csv(\"Advent_code_02.txt\", sep=\" \", header=None)\n",
    "inputs = inputs.rename(columns={0: \"Range\", 1: \"Letter\", 2:\"Password\"})\n",
    "inputs\n",
    "\n",
    "inputs[['Min','Max']] = inputs.Range.str.split(\"-\", expand=True)   # remaining being a string\n",
    "inputs[\"Result\"] = False\n",
    "inputs.head()"
   ]
  },
  {
   "cell_type": "code",
   "execution_count": 8,
   "metadata": {},
   "outputs": [
    {
     "output_type": "stream",
     "name": "stdout",
     "text": [
      "469\n",
      "267\n"
     ]
    }
   ],
   "source": [
    "def passwords(inputs):\n",
    "    \n",
    "    result = []\n",
    "    \n",
    "    for i in range(len(inputs)):\n",
    "        \n",
    "        if (inputs.iloc[i].Password.count(inputs.iloc[i].Letter[0]) > int(inputs.iloc[i].Min) -1) & (inputs.iloc[i].Password.count(inputs.iloc[i].Letter[0]) < int(inputs.iloc[i].Max)+1):   \n",
    "            #inputs.iloc[i].Result = True\n",
    "            result.append(\"True\")\n",
    "            #print(\"True\")\n",
    "        else:\n",
    "            result.append(\"False\")\n",
    "     \n",
    "    return result\n",
    "\n",
    "inp_new = passwords(inputs)\n",
    "inp_new\n",
    "print(inp_new.count(\"True\"))\n",
    "\n",
    "\n",
    "# The change is that we do not count, we just check two positions\n",
    "\n",
    "\n",
    "def passwords_two(inputs):\n",
    "    \n",
    "    result = []\n",
    "    \n",
    "    for i in range(len(inputs)):\n",
    "        \n",
    "        if inputs.iloc[i].Password[int(inputs.iloc[i].Min) -1] == inputs.iloc[i].Letter[0]:\n",
    "            if inputs.iloc[i].Password[int(inputs.iloc[i].Max) -1] != inputs.iloc[i].Letter[0]:\n",
    "                result.append(\"True\")\n",
    "            else:\n",
    "                result.append(\"False\")\n",
    "            \n",
    "        elif inputs.iloc[i].Password[int(inputs.iloc[i].Max) -1] == inputs.iloc[i].Letter[0]:\n",
    "            if inputs.iloc[i].Password[int(inputs.iloc[i].Min) -1] != inputs.iloc[i].Letter[0]:\n",
    "                result.append(\"True\")\n",
    "            else:\n",
    "                result.append(\"False\")\n",
    "            \n",
    "        else:\n",
    "            result.append(\"False\")\n",
    "     \n",
    "    return result\n",
    "\n",
    "inp_new = passwords_two(inputs)\n",
    "inp_new\n",
    "print(inp_new.count(\"True\"))"
   ]
  }
 ],
 "metadata": {
  "kernelspec": {
   "display_name": "Python 3",
   "language": "python",
   "name": "python3"
  },
  "language_info": {
   "codemirror_mode": {
    "name": "ipython",
    "version": 3
   },
   "file_extension": ".py",
   "mimetype": "text/x-python",
   "name": "python",
   "nbconvert_exporter": "python",
   "pygments_lexer": "ipython3",
   "version": "3.6.5-final"
  }
 },
 "nbformat": 4,
 "nbformat_minor": 4
}